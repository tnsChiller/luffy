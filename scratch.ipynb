{
 "cells": [
  {
   "cell_type": "code",
   "execution_count": null,
   "metadata": {},
   "outputs": [],
   "source": [
    "import torch\n",
    "from torch import optim\n",
    "\n",
    "def mpc_control(state, target_state, horizon, dt, m=0.2, M=1.0, L=0.5, g=9.81):\n",
    "    \"\"\"\n",
    "    Model Predictive Controller for the linearized inverted pendulum.\n",
    "    \"\"\"\n",
    "    # Initialize the control inputs (horizon steps)\n",
    "    u = torch.zeros(horizon, 1, requires_grad=True)  # Shape: (horizon, 1)\n",
    "    \n",
    "    # Optimizer to minimize cost\n",
    "    optimizer = optim.Adam([u], lr=0.1)\n",
    "\n",
    "    # MPC optimization loop\n",
    "    for _ in range(100):  # Number of optimization iterations\n",
    "        state_pred = state.clone()\n",
    "        cost = 0.0\n",
    "\n",
    "        # Predict states over the horizon and compute cost\n",
    "        for t in range(horizon):\n",
    "            state_pred = simulate_dynamics(state_pred, u[t].unsqueeze(0), dt, m, M, L, g)\n",
    "            # Cost function (e.g., minimize position and angle error)\n",
    "            cost += ((state_pred - target_state) ** 2).sum()\n",
    "\n",
    "        # Perform optimization step\n",
    "        optimizer.zero_grad()\n",
    "        cost.backward()\n",
    "        optimizer.step()\n",
    "\n",
    "    # Return the first control input (MPC applies only the first input and recalculates at each step)\n",
    "    return u[0].detach()"
   ]
  }
 ],
 "metadata": {
  "language_info": {
   "name": "python"
  }
 },
 "nbformat": 4,
 "nbformat_minor": 2
}
